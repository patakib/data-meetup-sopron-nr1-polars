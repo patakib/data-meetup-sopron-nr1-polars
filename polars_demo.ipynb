{
 "cells": [
  {
   "cell_type": "code",
   "execution_count": null,
   "id": "309c0cd3-bdc6-405b-9ebc-de86d5f088e2",
   "metadata": {},
   "outputs": [],
   "source": [
    "import polars as pl\n",
    "import pandas as pd\n",
    "from time import time\n",
    "from pathlib import Path\n",
    "import warnings"
   ]
  },
  {
   "cell_type": "code",
   "execution_count": null,
   "id": "84bd9b1c-55da-4add-b15a-d856cd26a0fd",
   "metadata": {},
   "outputs": [],
   "source": [
    "warnings.filterwarnings(\"ignore\")"
   ]
  },
  {
   "cell_type": "code",
   "execution_count": null,
   "id": "70c1a5ba-958c-4558-912c-24aac2a38fe1",
   "metadata": {},
   "outputs": [],
   "source": [
    "round((Path(\"data.csv\").stat().st_size / 1048576), 2)"
   ]
  },
  {
   "cell_type": "code",
   "execution_count": null,
   "id": "b823d2ed-3911-4012-94ab-2752d6170ba4",
   "metadata": {},
   "outputs": [],
   "source": [
    "def elapse_time(func):\n",
    "    def wrapper(*args, **kwargs):\n",
    "        start_time = time()\n",
    "        result = func(*args, **kwargs)\n",
    "        end_time = time()\n",
    "        execution_time = round((end_time - start_time), 2)\n",
    "        print(f\"Function {func.__name__} took {execution_time} seconds to execute\")\n",
    "        return result\n",
    "    return wrapper"
   ]
  },
  {
   "cell_type": "code",
   "execution_count": null,
   "id": "a21cde93-085f-43eb-adbc-11b173d6cb8b",
   "metadata": {},
   "outputs": [],
   "source": [
    "@elapse_time\n",
    "def read_csv(path: str, lib: str) -> pd.DataFrame | pl.DataFrame:\n",
    "    if lib == \"polars\":\n",
    "        df = pl.read_csv(path)\n",
    "    elif lib == \"pandas\":\n",
    "        df = pd.read_csv(path)\n",
    "    else:\n",
    "        raise TypeError(\"lib must be one of 'polars' or 'pandas'.\")\n",
    "    return df"
   ]
  },
  {
   "cell_type": "code",
   "execution_count": null,
   "id": "42323ffb-2d7d-4536-80c4-91e0afb06007",
   "metadata": {},
   "outputs": [],
   "source": [
    "pldf = read_csv(\"data.csv\", \"polars\")"
   ]
  },
  {
   "cell_type": "code",
   "execution_count": null,
   "id": "fda8edc3-060b-44f4-ab97-87e965073654",
   "metadata": {},
   "outputs": [],
   "source": [
    "pddf = read_csv(\"data.csv\", \"pandas\")"
   ]
  },
  {
   "cell_type": "code",
   "execution_count": null,
   "id": "01eb9266-c976-467b-8812-597859c0f64f",
   "metadata": {},
   "outputs": [],
   "source": [
    "# Schema"
   ]
  },
  {
   "cell_type": "code",
   "execution_count": null,
   "id": "78cdd6e2-ced0-46df-943f-f291c3676a4a",
   "metadata": {},
   "outputs": [],
   "source": [
    "pldf.schema"
   ]
  },
  {
   "cell_type": "code",
   "execution_count": null,
   "id": "c49ff1e3-c426-48d7-8071-7b9c14dfa22b",
   "metadata": {},
   "outputs": [],
   "source": [
    "pddf.dtypes"
   ]
  },
  {
   "cell_type": "code",
   "execution_count": null,
   "id": "d526e651-d79c-4737-8fbf-85bbea50e9ce",
   "metadata": {},
   "outputs": [],
   "source": [
    "# Describe"
   ]
  },
  {
   "cell_type": "code",
   "execution_count": null,
   "id": "72de63e7-d2ac-4779-a26b-5dc3d44d15b4",
   "metadata": {},
   "outputs": [],
   "source": [
    "pldf.describe()"
   ]
  },
  {
   "cell_type": "code",
   "execution_count": null,
   "id": "44e5a516-b872-4e08-b497-dc3f72464aad",
   "metadata": {},
   "outputs": [],
   "source": [
    "pddf.describe()"
   ]
  },
  {
   "cell_type": "code",
   "execution_count": null,
   "id": "1ba5357d-269f-4b8e-882f-fe445b0580cb",
   "metadata": {},
   "outputs": [],
   "source": [
    "# select"
   ]
  },
  {
   "cell_type": "code",
   "execution_count": null,
   "id": "9fadd668-0990-455b-a140-eff981747fc9",
   "metadata": {},
   "outputs": [],
   "source": [
    "pldf[[\"passenger_count\", \"fare_amount\"]]"
   ]
  },
  {
   "cell_type": "code",
   "execution_count": null,
   "id": "79b8e4b7-dcac-4f10-a80b-859b5b25d366",
   "metadata": {},
   "outputs": [],
   "source": [
    "# advanced selection"
   ]
  },
  {
   "cell_type": "code",
   "execution_count": null,
   "id": "c4479980-9519-47b5-a75d-5fe8dd569a91",
   "metadata": {},
   "outputs": [],
   "source": [
    "pldf.select(\n",
    "    pl.col(\"passenger_count\"),\n",
    "    pl.col(\"fare_amount\")\n",
    ")"
   ]
  },
  {
   "cell_type": "code",
   "execution_count": null,
   "id": "09ae8400-e34d-4b7c-972e-4781677ef851",
   "metadata": {},
   "outputs": [],
   "source": [
    "import polars.selectors as cs"
   ]
  },
  {
   "cell_type": "code",
   "execution_count": null,
   "id": "c1807ca5-7660-4876-86da-d183a6ec1d03",
   "metadata": {},
   "outputs": [],
   "source": [
    "pldf.select(cs.starts_with(\"passenger\"))"
   ]
  },
  {
   "cell_type": "code",
   "execution_count": null,
   "id": "d37d1f99-06be-4795-8ab7-8c6d5d29c029",
   "metadata": {},
   "outputs": [],
   "source": [
    "pldf.select(cs.temporal() | cs.string())"
   ]
  },
  {
   "cell_type": "code",
   "execution_count": null,
   "id": "85d25edb-2c37-4287-81fe-9a8472a79a18",
   "metadata": {},
   "outputs": [],
   "source": [
    "# Add new column"
   ]
  },
  {
   "cell_type": "code",
   "execution_count": null,
   "id": "035ddb58-df3d-4c94-aedb-24e42e581d66",
   "metadata": {},
   "outputs": [],
   "source": [
    "pldf[\"new_column\"] = \"important info\""
   ]
  },
  {
   "cell_type": "code",
   "execution_count": null,
   "id": "72dea859-1c06-4058-8486-a6612041b7fd",
   "metadata": {},
   "outputs": [],
   "source": [
    "pldf = pldf.with_columns(\n",
    "    new_column=pl.lit(\"important info\")\n",
    ")"
   ]
  },
  {
   "cell_type": "code",
   "execution_count": null,
   "id": "24625dc7-e689-43c9-bf27-c05553bce572",
   "metadata": {},
   "outputs": [],
   "source": [
    "pldf.head(3)"
   ]
  },
  {
   "cell_type": "code",
   "execution_count": null,
   "id": "d465c3e8-dc11-4f4e-8fe4-9b4aee46637c",
   "metadata": {},
   "outputs": [],
   "source": [
    "pldf = pldf.with_columns(\n",
    "    pl.lit(1.3578490).alias(\"another_new_column\")\n",
    ")"
   ]
  },
  {
   "cell_type": "code",
   "execution_count": null,
   "id": "5b0e6db3-0c9f-4846-a837-b05e14936156",
   "metadata": {},
   "outputs": [],
   "source": [
    "pldf.head(3)"
   ]
  },
  {
   "cell_type": "code",
   "execution_count": null,
   "id": "c2971105-7908-409b-ba63-3a987ba5d682",
   "metadata": {},
   "outputs": [],
   "source": [
    "pldf = pldf.with_columns(\n",
    "    pl.col(\"another_new_column\").cast(pl.Int64).alias(\"another_new_column_INT64\")\n",
    ")"
   ]
  },
  {
   "cell_type": "code",
   "execution_count": null,
   "id": "39653e70-1055-4dfb-88a4-689117446302",
   "metadata": {},
   "outputs": [],
   "source": [
    "pldf.head(3)"
   ]
  },
  {
   "cell_type": "code",
   "execution_count": null,
   "id": "4a26482d-a8a4-4078-9e6e-19af0d636b79",
   "metadata": {},
   "outputs": [],
   "source": [
    "# When - Then - Otherwise"
   ]
  },
  {
   "cell_type": "code",
   "execution_count": null,
   "id": "856d0e21-b59e-40d8-a07e-7d6fb650250b",
   "metadata": {},
   "outputs": [],
   "source": [
    "pldf.head(3)"
   ]
  },
  {
   "cell_type": "code",
   "execution_count": null,
   "id": "f15ba11c-5170-43e2-a1fa-948163a3d37b",
   "metadata": {},
   "outputs": [],
   "source": [
    "pldf = pldf.with_columns(\n",
    "    pl.when(\n",
    "        (pl.col(\"trip_distance\")>0) & (pl.col(\"trip_distance\")<1)\n",
    "    )\n",
    "    .then(pl.lit(\"0-1\"))\n",
    "    .otherwise(pl.lit(\"1+\"))\n",
    "    .alias(\"trip_distance_category\")\n",
    ")"
   ]
  },
  {
   "cell_type": "code",
   "execution_count": null,
   "id": "92fccb3d-e521-40ef-a1e3-916239443067",
   "metadata": {},
   "outputs": [],
   "source": [
    "pldf[[\"trip_distance\", \"trip_distance_category\", \"passenger_count\"]].head(3)"
   ]
  },
  {
   "cell_type": "code",
   "execution_count": null,
   "id": "c37e0e69-5c8c-4cdc-9465-8465b46700e7",
   "metadata": {},
   "outputs": [],
   "source": [
    "# in Pandas"
   ]
  },
  {
   "cell_type": "code",
   "execution_count": null,
   "id": "4a5ff5da-8da8-4d9a-a37c-c528ad653b9d",
   "metadata": {},
   "outputs": [],
   "source": [
    "pddf.loc[(pddf['trip_distance']<1) & (pddf['trip_distance']>0), 'trip_distance_category'] = \"0-1\"\n",
    "pddf.loc[pddf['trip_distance']>=1, 'trip_distance_category'] = \"1+\""
   ]
  },
  {
   "cell_type": "code",
   "execution_count": null,
   "id": "c9422898-116c-4a17-9940-4a6c693e1886",
   "metadata": {},
   "outputs": [],
   "source": [
    "pddf[[\"trip_distance\", \"trip_distance_category\", \"passenger_count\"]].head(3)"
   ]
  },
  {
   "cell_type": "code",
   "execution_count": null,
   "id": "99f349aa-c114-474c-b350-803a8eb645f4",
   "metadata": {},
   "outputs": [],
   "source": [
    "# Sum"
   ]
  },
  {
   "cell_type": "code",
   "execution_count": null,
   "id": "4e397ee8-ff42-492b-94db-74683f9df829",
   "metadata": {},
   "outputs": [],
   "source": [
    "pldf.select(pl.sum(\"trip_distance\", \"passenger_count\"))"
   ]
  },
  {
   "cell_type": "code",
   "execution_count": null,
   "id": "5b1166ed-241f-45c1-949c-1a64682f68f8",
   "metadata": {},
   "outputs": [],
   "source": [
    "# Group By"
   ]
  },
  {
   "cell_type": "code",
   "execution_count": null,
   "id": "f9361be9-e313-4abc-8044-5d182cea0da1",
   "metadata": {},
   "outputs": [],
   "source": [
    "pldf.group_by(\"trip_distance_category\").agg(pl.col(\"passenger_count\").sum())"
   ]
  },
  {
   "cell_type": "code",
   "execution_count": null,
   "id": "205ca03b-0226-43df-9afa-77fb04bde1dc",
   "metadata": {},
   "outputs": [],
   "source": [
    "pldf.group_by(\"trip_distance_category\").agg(pl.col(\"trip_distance\").mean())"
   ]
  },
  {
   "cell_type": "code",
   "execution_count": null,
   "id": "093a92a9-8696-433e-a7c8-3dc957f5ae4d",
   "metadata": {},
   "outputs": [],
   "source": [
    "# Unique values"
   ]
  },
  {
   "cell_type": "code",
   "execution_count": null,
   "id": "b683317d-c396-4b77-83ea-f1f0f82ea3c9",
   "metadata": {},
   "outputs": [],
   "source": [
    "pldf[\"passenger_count\"].unique()"
   ]
  },
  {
   "cell_type": "code",
   "execution_count": null,
   "id": "f8f7a6a9-f8af-4333-9773-a8b0dc1b4998",
   "metadata": {},
   "outputs": [],
   "source": [
    "pldf[\"passenger_count\"].n_unique()"
   ]
  },
  {
   "cell_type": "code",
   "execution_count": null,
   "id": "ab2673b9-b471-4c43-983a-ecba8508c8a2",
   "metadata": {},
   "outputs": [],
   "source": [
    "# User-defined Functions"
   ]
  },
  {
   "cell_type": "code",
   "execution_count": null,
   "id": "2587d6e9-efe5-4e2d-9a73-d716c12dc5c4",
   "metadata": {},
   "outputs": [],
   "source": [
    "def transform_column(value: str) -> str:\n",
    "    return f\"{value}_transformed\"\n",
    "\n",
    "out = pldf.select(pl.col(\"trip_distance_category\").map_elements(transform_column, return_dtype=pl.Utf8))"
   ]
  },
  {
   "cell_type": "code",
   "execution_count": null,
   "id": "6273274c-3533-4b75-90e9-7f0b1b6070ed",
   "metadata": {},
   "outputs": [],
   "source": [
    "out.head(3)"
   ]
  },
  {
   "cell_type": "code",
   "execution_count": null,
   "id": "c602b578-4127-416c-a731-413645587e36",
   "metadata": {},
   "outputs": [],
   "source": [
    "# Lazy and Eager execution"
   ]
  },
  {
   "cell_type": "code",
   "execution_count": null,
   "id": "9fddee19-d71f-4776-a94c-94aac08e35ef",
   "metadata": {},
   "outputs": [],
   "source": [
    "@elapse_time\n",
    "def transform_polars_eager(path):\n",
    "    df = pl.read_csv(path)\n",
    "    df = df.with_columns(\n",
    "        new_column=pl.lit(\"important info\")\n",
    "    )\n",
    "    df = df.with_columns(\n",
    "        pl.lit(1.3578490).alias(\"another_new_column\")\n",
    "    )\n",
    "    df = df.with_columns(\n",
    "        pl.col(\"another_new_column\").cast(pl.Int64).alias(\"another_new_column_INT64\")\n",
    "    )\n",
    "    df = df.with_columns(\n",
    "        pl.when(\n",
    "            (pl.col(\"trip_distance\")>0) & (pl.col(\"trip_distance\")<1)\n",
    "        )\n",
    "        .then(pl.lit(\"0-1\"))\n",
    "        .otherwise(pl.lit(\"1+\"))\n",
    "        .alias(\"trip_distance_category\")\n",
    "    )\n",
    "    df = df.with_columns(\n",
    "        pl.mean(\"trip_distance\").alias(\"mean_trip_distance\")\n",
    "    )\n",
    "    def transform_column(value: str) -> str:\n",
    "        return f\"{value}_transformed\"\n",
    "    \n",
    "    df = df.with_columns(\n",
    "        pl.col(\"trip_distance_category\").map_elements(transform_column, return_dtype=pl.Utf8).alias(\"trip_distance_category_transformed\")\n",
    "    )\n",
    "    df = pl.concat([df, df])\n",
    "    df2 = pl.concat([df, df])\n",
    "    df3 = df2.group_by(\"trip_distance_category\").agg(pl.col(\"trip_distance\").max())\n",
    "    display(df3.head())"
   ]
  },
  {
   "cell_type": "code",
   "execution_count": null,
   "id": "577a88d6-451d-4e3e-baaa-d24fa3715890",
   "metadata": {},
   "outputs": [],
   "source": [
    "@elapse_time\n",
    "def transform_polars_lazy(path):\n",
    "    df = pl.scan_csv(path)\n",
    "    df = df.with_columns(\n",
    "        new_column=pl.lit(\"important info\")\n",
    "    )\n",
    "    df = df.with_columns(\n",
    "        pl.lit(1.3578490).alias(\"another_new_column\")\n",
    "    )\n",
    "    df = df.with_columns(\n",
    "        pl.col(\"another_new_column\").cast(pl.Int64).alias(\"another_new_column_INT64\")\n",
    "    )\n",
    "    df = df.with_columns(\n",
    "        pl.when(\n",
    "            (pl.col(\"trip_distance\")>0) & (pl.col(\"trip_distance\")<1)\n",
    "        )\n",
    "        .then(pl.lit(\"0-1\"))\n",
    "        .otherwise(pl.lit(\"1+\"))\n",
    "        .alias(\"trip_distance_category\")\n",
    "    )\n",
    "    df = df.with_columns(\n",
    "        pl.mean(\"trip_distance\").alias(\"mean_trip_distance\")\n",
    "    )\n",
    "    def transform_column(value: str) -> str:\n",
    "        return f\"{value}_transformed\"\n",
    "    \n",
    "    df = df.with_columns(\n",
    "        pl.col(\"trip_distance_category\").map_elements(transform_column, return_dtype=pl.Utf8).alias(\"trip_distance_category_transformed\")\n",
    "    )\n",
    "    df2 = pl.concat([df, df])\n",
    "    df3 = df2.group_by(\"trip_distance_category\").agg(pl.col(\"trip_distance\").max())\n",
    "    display(df3.head())\n",
    "    display(df3.head().collect())"
   ]
  },
  {
   "cell_type": "code",
   "execution_count": null,
   "id": "09367000-a334-4046-a534-601bd9cbd684",
   "metadata": {},
   "outputs": [],
   "source": [
    "transform_polars_eager(\"data.csv\")"
   ]
  },
  {
   "cell_type": "code",
   "execution_count": null,
   "id": "16bffe42-4397-4038-9bfd-395bb843ceae",
   "metadata": {},
   "outputs": [],
   "source": [
    "transform_polars_lazy(\"data.csv\")"
   ]
  },
  {
   "cell_type": "code",
   "execution_count": null,
   "id": "fa219233-c3e8-4ae9-ba54-185af43cb073",
   "metadata": {},
   "outputs": [],
   "source": [
    "@elapse_time\n",
    "def transform_pandas(df: pd.DataFrame) -> pd.DataFrame:\n",
    "    # TODO"
   ]
  },
  {
   "cell_type": "code",
   "execution_count": null,
   "id": "8e062c97-0fef-4409-adae-d353e00bbe6c",
   "metadata": {},
   "outputs": [],
   "source": []
  },
  {
   "cell_type": "code",
   "execution_count": null,
   "id": "e64eefcc-afec-4c8f-b62d-c79267a49124",
   "metadata": {},
   "outputs": [],
   "source": [
    "# Visualization"
   ]
  },
  {
   "cell_type": "code",
   "execution_count": null,
   "id": "1f0b8175-5adb-45d3-95f2-b057cd15dcc4",
   "metadata": {},
   "outputs": [],
   "source": [
    "pldf[:500].plot.bar(x=\"trip_distance\", y=\"passenger_count\")"
   ]
  },
  {
   "cell_type": "code",
   "execution_count": null,
   "id": "9bcebdce-5786-454d-87b7-0f1b94dc4e8e",
   "metadata": {},
   "outputs": [],
   "source": [
    "pldf[:500].plot.point(x=\"trip_distance\", y=\"tip_amount\")"
   ]
  },
  {
   "cell_type": "code",
   "execution_count": null,
   "id": "353ea696-66f6-4ab9-8333-09c0da70ab88",
   "metadata": {},
   "outputs": [],
   "source": []
  }
 ],
 "metadata": {
  "kernelspec": {
   "display_name": "Python 3 (ipykernel)",
   "language": "python",
   "name": "python3"
  },
  "language_info": {
   "codemirror_mode": {
    "name": "ipython",
    "version": 3
   },
   "file_extension": ".py",
   "mimetype": "text/x-python",
   "name": "python",
   "nbconvert_exporter": "python",
   "pygments_lexer": "ipython3",
   "version": "3.12.3"
  }
 },
 "nbformat": 4,
 "nbformat_minor": 5
}
