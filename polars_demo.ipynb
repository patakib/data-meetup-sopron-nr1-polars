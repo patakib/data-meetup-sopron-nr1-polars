{
 "cells": [
  {
   "cell_type": "code",
   "execution_count": 2,
   "id": "309c0cd3-bdc6-405b-9ebc-de86d5f088e2",
   "metadata": {},
   "outputs": [],
   "source": [
    "import polars as pl\n",
    "import pandas as pd\n",
    "from time import time\n",
    "from pathlib import Path\n",
    "import warnings"
   ]
  },
  {
   "cell_type": "code",
   "execution_count": 3,
   "id": "84bd9b1c-55da-4add-b15a-d856cd26a0fd",
   "metadata": {},
   "outputs": [],
   "source": [
    "warnings.filterwarnings(\"ignore\")"
   ]
  },
  {
   "cell_type": "code",
   "execution_count": 4,
   "id": "70c1a5ba-958c-4558-912c-24aac2a38fe1",
   "metadata": {},
   "outputs": [
    {
     "data": {
      "text/plain": [
       "566.11"
      ]
     },
     "execution_count": 4,
     "metadata": {},
     "output_type": "execute_result"
    }
   ],
   "source": [
    "round((Path(\"data.csv\").stat().st_size / 1048576), 2)"
   ]
  },
  {
   "cell_type": "code",
   "execution_count": 5,
   "id": "b823d2ed-3911-4012-94ab-2752d6170ba4",
   "metadata": {},
   "outputs": [],
   "source": [
    "def elapse_time(func):\n",
    "    def wrapper(*args, **kwargs):\n",
    "        start_time = time()\n",
    "        result = func(*args, **kwargs)\n",
    "        end_time = time()\n",
    "        execution_time = round((end_time - start_time), 2)\n",
    "        print(f\"Function {func.__name__} took {execution_time} seconds to execute\")\n",
    "        return result\n",
    "    return wrapper"
   ]
  },
  {
   "cell_type": "code",
   "execution_count": 22,
   "id": "a21cde93-085f-43eb-adbc-11b173d6cb8b",
   "metadata": {},
   "outputs": [],
   "source": [
    "@elapse_time\n",
    "def read_csv(path: str, lib: str) -> pd.DataFrame | pl.DataFrame:\n",
    "    if lib == \"polars\":\n",
    "        df = pl.read_csv(path)\n",
    "    elif lib == \"pandas\":\n",
    "        df = pd.read_csv(path)\n",
    "    else:\n",
    "        raise TypeError(\"lib must be one of 'polars' or 'pandas'.\")\n",
    "    return df"
   ]
  },
  {
   "cell_type": "code",
   "execution_count": 7,
   "id": "42323ffb-2d7d-4536-80c4-91e0afb06007",
   "metadata": {},
   "outputs": [
    {
     "name": "stdout",
     "output_type": "stream",
     "text": [
      "Function read_csv took 1.31 seconds to execute\n"
     ]
    }
   ],
   "source": [
    "pldf = read_csv(\"data.csv\", \"polars\")"
   ]
  },
  {
   "cell_type": "code",
   "execution_count": 23,
   "id": "fda8edc3-060b-44f4-ab97-87e965073654",
   "metadata": {},
   "outputs": [
    {
     "name": "stdout",
     "output_type": "stream",
     "text": [
      "Function read_csv took 11.23 seconds to execute\n"
     ]
    }
   ],
   "source": [
    "pddf = read_csv(\"data.csv\", \"pandas\")"
   ]
  },
  {
   "cell_type": "code",
   "execution_count": null,
   "id": "01eb9266-c976-467b-8812-597859c0f64f",
   "metadata": {},
   "outputs": [],
   "source": [
    "# Schema"
   ]
  },
  {
   "cell_type": "code",
   "execution_count": 15,
   "id": "78cdd6e2-ced0-46df-943f-f291c3676a4a",
   "metadata": {},
   "outputs": [
    {
     "data": {
      "text/plain": [
       "Schema([('VendorID', Int64),\n",
       "        ('tpep_pickup_datetime', String),\n",
       "        ('tpep_dropoff_datetime', String),\n",
       "        ('passenger_count', Int64),\n",
       "        ('trip_distance', Float64),\n",
       "        ('RatecodeID', Int64),\n",
       "        ('store_and_fwd_flag', String),\n",
       "        ('PULocationID', Int64),\n",
       "        ('DOLocationID', Int64),\n",
       "        ('payment_type', Int64),\n",
       "        ('fare_amount', Float64),\n",
       "        ('extra', Float64),\n",
       "        ('mta_tax', Float64),\n",
       "        ('tip_amount', Float64),\n",
       "        ('tolls_amount', Float64),\n",
       "        ('improvement_surcharge', Float64),\n",
       "        ('total_amount', Float64),\n",
       "        ('congestion_surcharge', Float64)])"
      ]
     },
     "execution_count": 15,
     "metadata": {},
     "output_type": "execute_result"
    }
   ],
   "source": [
    "pldf.schema"
   ]
  },
  {
   "cell_type": "code",
   "execution_count": 14,
   "id": "c49ff1e3-c426-48d7-8071-7b9c14dfa22b",
   "metadata": {},
   "outputs": [
    {
     "data": {
      "text/plain": [
       "VendorID                 float64\n",
       "tpep_pickup_datetime      object\n",
       "tpep_dropoff_datetime     object\n",
       "passenger_count          float64\n",
       "trip_distance            float64\n",
       "RatecodeID               float64\n",
       "store_and_fwd_flag        object\n",
       "PULocationID               int64\n",
       "DOLocationID               int64\n",
       "payment_type             float64\n",
       "fare_amount              float64\n",
       "extra                    float64\n",
       "mta_tax                  float64\n",
       "tip_amount               float64\n",
       "tolls_amount             float64\n",
       "improvement_surcharge    float64\n",
       "total_amount             float64\n",
       "congestion_surcharge     float64\n",
       "dtype: object"
      ]
     },
     "execution_count": 14,
     "metadata": {},
     "output_type": "execute_result"
    }
   ],
   "source": [
    "pddf.dtypes"
   ]
  },
  {
   "cell_type": "code",
   "execution_count": null,
   "id": "d526e651-d79c-4737-8fbf-85bbea50e9ce",
   "metadata": {},
   "outputs": [],
   "source": [
    "# Describe"
   ]
  },
  {
   "cell_type": "code",
   "execution_count": 19,
   "id": "72de63e7-d2ac-4779-a26b-5dc3d44d15b4",
   "metadata": {},
   "outputs": [
    {
     "data": {
      "text/html": [
       "<div><style>\n",
       ".dataframe > thead > tr,\n",
       ".dataframe > tbody > tr {\n",
       "  text-align: right;\n",
       "  white-space: pre-wrap;\n",
       "}\n",
       "</style>\n",
       "<small>shape: (9, 19)</small><table border=\"1\" class=\"dataframe\"><thead><tr><th>statistic</th><th>VendorID</th><th>tpep_pickup_datetime</th><th>tpep_dropoff_datetime</th><th>passenger_count</th><th>trip_distance</th><th>RatecodeID</th><th>store_and_fwd_flag</th><th>PULocationID</th><th>DOLocationID</th><th>payment_type</th><th>fare_amount</th><th>extra</th><th>mta_tax</th><th>tip_amount</th><th>tolls_amount</th><th>improvement_surcharge</th><th>total_amount</th><th>congestion_surcharge</th></tr><tr><td>str</td><td>f64</td><td>str</td><td>str</td><td>f64</td><td>f64</td><td>f64</td><td>str</td><td>f64</td><td>f64</td><td>f64</td><td>f64</td><td>f64</td><td>f64</td><td>f64</td><td>f64</td><td>f64</td><td>f64</td><td>f64</td></tr></thead><tbody><tr><td>&quot;count&quot;</td><td>6.339567e6</td><td>&quot;6405008&quot;</td><td>&quot;6405008&quot;</td><td>6.339567e6</td><td>6.405008e6</td><td>6.339567e6</td><td>&quot;6339567&quot;</td><td>6.405008e6</td><td>6.405008e6</td><td>6.339567e6</td><td>6.405008e6</td><td>6.405008e6</td><td>6.405008e6</td><td>6.405008e6</td><td>6.405008e6</td><td>6.405008e6</td><td>6.405008e6</td><td>6.405008e6</td></tr><tr><td>&quot;null_count&quot;</td><td>65441.0</td><td>&quot;0&quot;</td><td>&quot;0&quot;</td><td>65441.0</td><td>0.0</td><td>65441.0</td><td>&quot;65441&quot;</td><td>0.0</td><td>0.0</td><td>65441.0</td><td>0.0</td><td>0.0</td><td>0.0</td><td>0.0</td><td>0.0</td><td>0.0</td><td>0.0</td><td>0.0</td></tr><tr><td>&quot;mean&quot;</td><td>1.669624</td><td>null</td><td>null</td><td>1.515333</td><td>2.929644</td><td>1.059908</td><td>null</td><td>164.732258</td><td>162.662691</td><td>1.270298</td><td>12.694108</td><td>1.115456</td><td>0.492318</td><td>2.189342</td><td>0.34884</td><td>0.297987</td><td>18.663149</td><td>2.275662</td></tr><tr><td>&quot;std&quot;</td><td>0.470348</td><td>null</td><td>null</td><td>1.151594</td><td>83.159106</td><td>0.811843</td><td>null</td><td>65.543739</td><td>69.912606</td><td>0.473999</td><td>12.127295</td><td>1.260054</td><td>0.073742</td><td>2.760028</td><td>1.766978</td><td>0.033859</td><td>14.757364</td><td>0.735265</td></tr><tr><td>&quot;min&quot;</td><td>1.0</td><td>&quot;2003-01-01 00:07:17&quot;</td><td>&quot;2003-01-01 14:16:59&quot;</td><td>0.0</td><td>-30.62</td><td>1.0</td><td>&quot;N&quot;</td><td>1.0</td><td>1.0</td><td>1.0</td><td>-1238.0</td><td>-27.0</td><td>-0.5</td><td>-91.0</td><td>-35.74</td><td>-0.3</td><td>-1242.3</td><td>-2.5</td></tr><tr><td>&quot;25%&quot;</td><td>1.0</td><td>null</td><td>null</td><td>1.0</td><td>0.96</td><td>1.0</td><td>null</td><td>132.0</td><td>113.0</td><td>1.0</td><td>6.5</td><td>0.0</td><td>0.5</td><td>0.0</td><td>0.0</td><td>0.3</td><td>11.16</td><td>2.5</td></tr><tr><td>&quot;50%&quot;</td><td>2.0</td><td>null</td><td>null</td><td>1.0</td><td>1.6</td><td>1.0</td><td>null</td><td>162.0</td><td>162.0</td><td>1.0</td><td>9.0</td><td>0.5</td><td>0.5</td><td>1.95</td><td>0.0</td><td>0.3</td><td>14.3</td><td>2.5</td></tr><tr><td>&quot;75%&quot;</td><td>2.0</td><td>null</td><td>null</td><td>2.0</td><td>2.93</td><td>1.0</td><td>null</td><td>234.0</td><td>234.0</td><td>2.0</td><td>14.0</td><td>2.5</td><td>0.5</td><td>2.86</td><td>0.0</td><td>0.3</td><td>19.8</td><td>2.5</td></tr><tr><td>&quot;max&quot;</td><td>2.0</td><td>&quot;2021-01-02 01:12:10&quot;</td><td>&quot;2021-01-02 01:25:01&quot;</td><td>9.0</td><td>210240.07</td><td>99.0</td><td>&quot;Y&quot;</td><td>265.0</td><td>265.0</td><td>5.0</td><td>4265.0</td><td>113.01</td><td>30.8</td><td>1100.0</td><td>910.5</td><td>0.3</td><td>4268.3</td><td>2.75</td></tr></tbody></table></div>"
      ],
      "text/plain": [
       "shape: (9, 19)\n",
       "┌───────────┬───────────┬───────────┬───────────┬───┬───────────┬───────────┬───────────┬──────────┐\n",
       "│ statistic ┆ VendorID  ┆ tpep_pick ┆ tpep_drop ┆ … ┆ tolls_amo ┆ improveme ┆ total_amo ┆ congesti │\n",
       "│ ---       ┆ ---       ┆ up_dateti ┆ off_datet ┆   ┆ unt       ┆ nt_surcha ┆ unt       ┆ on_surch │\n",
       "│ str       ┆ f64       ┆ me        ┆ ime       ┆   ┆ ---       ┆ rge       ┆ ---       ┆ arge     │\n",
       "│           ┆           ┆ ---       ┆ ---       ┆   ┆ f64       ┆ ---       ┆ f64       ┆ ---      │\n",
       "│           ┆           ┆ str       ┆ str       ┆   ┆           ┆ f64       ┆           ┆ f64      │\n",
       "╞═══════════╪═══════════╪═══════════╪═══════════╪═══╪═══════════╪═══════════╪═══════════╪══════════╡\n",
       "│ count     ┆ 6.339567e ┆ 6405008   ┆ 6405008   ┆ … ┆ 6.405008e ┆ 6.405008e ┆ 6.405008e ┆ 6.405008 │\n",
       "│           ┆ 6         ┆           ┆           ┆   ┆ 6         ┆ 6         ┆ 6         ┆ e6       │\n",
       "│ null_coun ┆ 65441.0   ┆ 0         ┆ 0         ┆ … ┆ 0.0       ┆ 0.0       ┆ 0.0       ┆ 0.0      │\n",
       "│ t         ┆           ┆           ┆           ┆   ┆           ┆           ┆           ┆          │\n",
       "│ mean      ┆ 1.669624  ┆ null      ┆ null      ┆ … ┆ 0.34884   ┆ 0.297987  ┆ 18.663149 ┆ 2.275662 │\n",
       "│ std       ┆ 0.470348  ┆ null      ┆ null      ┆ … ┆ 1.766978  ┆ 0.033859  ┆ 14.757364 ┆ 0.735265 │\n",
       "│ min       ┆ 1.0       ┆ 2003-01-0 ┆ 2003-01-0 ┆ … ┆ -35.74    ┆ -0.3      ┆ -1242.3   ┆ -2.5     │\n",
       "│           ┆           ┆ 1         ┆ 1         ┆   ┆           ┆           ┆           ┆          │\n",
       "│           ┆           ┆ 00:07:17  ┆ 14:16:59  ┆   ┆           ┆           ┆           ┆          │\n",
       "│ 25%       ┆ 1.0       ┆ null      ┆ null      ┆ … ┆ 0.0       ┆ 0.3       ┆ 11.16     ┆ 2.5      │\n",
       "│ 50%       ┆ 2.0       ┆ null      ┆ null      ┆ … ┆ 0.0       ┆ 0.3       ┆ 14.3      ┆ 2.5      │\n",
       "│ 75%       ┆ 2.0       ┆ null      ┆ null      ┆ … ┆ 0.0       ┆ 0.3       ┆ 19.8      ┆ 2.5      │\n",
       "│ max       ┆ 2.0       ┆ 2021-01-0 ┆ 2021-01-0 ┆ … ┆ 910.5     ┆ 0.3       ┆ 4268.3    ┆ 2.75     │\n",
       "│           ┆           ┆ 2         ┆ 2         ┆   ┆           ┆           ┆           ┆          │\n",
       "│           ┆           ┆ 01:12:10  ┆ 01:25:01  ┆   ┆           ┆           ┆           ┆          │\n",
       "└───────────┴───────────┴───────────┴───────────┴───┴───────────┴───────────┴───────────┴──────────┘"
      ]
     },
     "execution_count": 19,
     "metadata": {},
     "output_type": "execute_result"
    }
   ],
   "source": [
    "pldf.describe()"
   ]
  },
  {
   "cell_type": "code",
   "execution_count": 18,
   "id": "44e5a516-b872-4e08-b497-dc3f72464aad",
   "metadata": {},
   "outputs": [
    {
     "data": {
      "text/html": [
       "<div>\n",
       "<style scoped>\n",
       "    .dataframe tbody tr th:only-of-type {\n",
       "        vertical-align: middle;\n",
       "    }\n",
       "\n",
       "    .dataframe tbody tr th {\n",
       "        vertical-align: top;\n",
       "    }\n",
       "\n",
       "    .dataframe thead th {\n",
       "        text-align: right;\n",
       "    }\n",
       "</style>\n",
       "<table border=\"1\" class=\"dataframe\">\n",
       "  <thead>\n",
       "    <tr style=\"text-align: right;\">\n",
       "      <th></th>\n",
       "      <th>VendorID</th>\n",
       "      <th>passenger_count</th>\n",
       "      <th>trip_distance</th>\n",
       "      <th>RatecodeID</th>\n",
       "      <th>PULocationID</th>\n",
       "      <th>DOLocationID</th>\n",
       "      <th>payment_type</th>\n",
       "      <th>fare_amount</th>\n",
       "      <th>extra</th>\n",
       "      <th>mta_tax</th>\n",
       "      <th>tip_amount</th>\n",
       "      <th>tolls_amount</th>\n",
       "      <th>improvement_surcharge</th>\n",
       "      <th>total_amount</th>\n",
       "      <th>congestion_surcharge</th>\n",
       "    </tr>\n",
       "  </thead>\n",
       "  <tbody>\n",
       "    <tr>\n",
       "      <th>count</th>\n",
       "      <td>6.339567e+06</td>\n",
       "      <td>6.339567e+06</td>\n",
       "      <td>6.405008e+06</td>\n",
       "      <td>6.339567e+06</td>\n",
       "      <td>6.405008e+06</td>\n",
       "      <td>6.405008e+06</td>\n",
       "      <td>6.339567e+06</td>\n",
       "      <td>6.405008e+06</td>\n",
       "      <td>6.405008e+06</td>\n",
       "      <td>6.405008e+06</td>\n",
       "      <td>6.405008e+06</td>\n",
       "      <td>6.405008e+06</td>\n",
       "      <td>6.405008e+06</td>\n",
       "      <td>6.405008e+06</td>\n",
       "      <td>6.405008e+06</td>\n",
       "    </tr>\n",
       "    <tr>\n",
       "      <th>mean</th>\n",
       "      <td>1.669624e+00</td>\n",
       "      <td>1.515333e+00</td>\n",
       "      <td>2.929644e+00</td>\n",
       "      <td>1.059908e+00</td>\n",
       "      <td>1.647323e+02</td>\n",
       "      <td>1.626627e+02</td>\n",
       "      <td>1.270298e+00</td>\n",
       "      <td>1.269411e+01</td>\n",
       "      <td>1.115456e+00</td>\n",
       "      <td>4.923182e-01</td>\n",
       "      <td>2.189342e+00</td>\n",
       "      <td>3.488395e-01</td>\n",
       "      <td>2.979870e-01</td>\n",
       "      <td>1.866315e+01</td>\n",
       "      <td>2.275662e+00</td>\n",
       "    </tr>\n",
       "    <tr>\n",
       "      <th>std</th>\n",
       "      <td>4.703484e-01</td>\n",
       "      <td>1.151594e+00</td>\n",
       "      <td>8.315911e+01</td>\n",
       "      <td>8.118432e-01</td>\n",
       "      <td>6.554374e+01</td>\n",
       "      <td>6.991261e+01</td>\n",
       "      <td>4.739985e-01</td>\n",
       "      <td>1.212730e+01</td>\n",
       "      <td>1.260054e+00</td>\n",
       "      <td>7.374184e-02</td>\n",
       "      <td>2.760028e+00</td>\n",
       "      <td>1.766978e+00</td>\n",
       "      <td>3.385937e-02</td>\n",
       "      <td>1.475736e+01</td>\n",
       "      <td>7.352646e-01</td>\n",
       "    </tr>\n",
       "    <tr>\n",
       "      <th>min</th>\n",
       "      <td>1.000000e+00</td>\n",
       "      <td>0.000000e+00</td>\n",
       "      <td>-3.062000e+01</td>\n",
       "      <td>1.000000e+00</td>\n",
       "      <td>1.000000e+00</td>\n",
       "      <td>1.000000e+00</td>\n",
       "      <td>1.000000e+00</td>\n",
       "      <td>-1.238000e+03</td>\n",
       "      <td>-2.700000e+01</td>\n",
       "      <td>-5.000000e-01</td>\n",
       "      <td>-9.100000e+01</td>\n",
       "      <td>-3.574000e+01</td>\n",
       "      <td>-3.000000e-01</td>\n",
       "      <td>-1.242300e+03</td>\n",
       "      <td>-2.500000e+00</td>\n",
       "    </tr>\n",
       "    <tr>\n",
       "      <th>25%</th>\n",
       "      <td>1.000000e+00</td>\n",
       "      <td>1.000000e+00</td>\n",
       "      <td>9.600000e-01</td>\n",
       "      <td>1.000000e+00</td>\n",
       "      <td>1.320000e+02</td>\n",
       "      <td>1.130000e+02</td>\n",
       "      <td>1.000000e+00</td>\n",
       "      <td>6.500000e+00</td>\n",
       "      <td>0.000000e+00</td>\n",
       "      <td>5.000000e-01</td>\n",
       "      <td>0.000000e+00</td>\n",
       "      <td>0.000000e+00</td>\n",
       "      <td>3.000000e-01</td>\n",
       "      <td>1.116000e+01</td>\n",
       "      <td>2.500000e+00</td>\n",
       "    </tr>\n",
       "    <tr>\n",
       "      <th>50%</th>\n",
       "      <td>2.000000e+00</td>\n",
       "      <td>1.000000e+00</td>\n",
       "      <td>1.600000e+00</td>\n",
       "      <td>1.000000e+00</td>\n",
       "      <td>1.620000e+02</td>\n",
       "      <td>1.620000e+02</td>\n",
       "      <td>1.000000e+00</td>\n",
       "      <td>9.000000e+00</td>\n",
       "      <td>5.000000e-01</td>\n",
       "      <td>5.000000e-01</td>\n",
       "      <td>1.950000e+00</td>\n",
       "      <td>0.000000e+00</td>\n",
       "      <td>3.000000e-01</td>\n",
       "      <td>1.430000e+01</td>\n",
       "      <td>2.500000e+00</td>\n",
       "    </tr>\n",
       "    <tr>\n",
       "      <th>75%</th>\n",
       "      <td>2.000000e+00</td>\n",
       "      <td>2.000000e+00</td>\n",
       "      <td>2.930000e+00</td>\n",
       "      <td>1.000000e+00</td>\n",
       "      <td>2.340000e+02</td>\n",
       "      <td>2.340000e+02</td>\n",
       "      <td>2.000000e+00</td>\n",
       "      <td>1.400000e+01</td>\n",
       "      <td>2.500000e+00</td>\n",
       "      <td>5.000000e-01</td>\n",
       "      <td>2.860000e+00</td>\n",
       "      <td>0.000000e+00</td>\n",
       "      <td>3.000000e-01</td>\n",
       "      <td>1.980000e+01</td>\n",
       "      <td>2.500000e+00</td>\n",
       "    </tr>\n",
       "    <tr>\n",
       "      <th>max</th>\n",
       "      <td>2.000000e+00</td>\n",
       "      <td>9.000000e+00</td>\n",
       "      <td>2.102401e+05</td>\n",
       "      <td>9.900000e+01</td>\n",
       "      <td>2.650000e+02</td>\n",
       "      <td>2.650000e+02</td>\n",
       "      <td>5.000000e+00</td>\n",
       "      <td>4.265000e+03</td>\n",
       "      <td>1.130100e+02</td>\n",
       "      <td>3.080000e+01</td>\n",
       "      <td>1.100000e+03</td>\n",
       "      <td>9.105000e+02</td>\n",
       "      <td>3.000000e-01</td>\n",
       "      <td>4.268300e+03</td>\n",
       "      <td>2.750000e+00</td>\n",
       "    </tr>\n",
       "  </tbody>\n",
       "</table>\n",
       "</div>"
      ],
      "text/plain": [
       "           VendorID  passenger_count  trip_distance    RatecodeID  \\\n",
       "count  6.339567e+06     6.339567e+06   6.405008e+06  6.339567e+06   \n",
       "mean   1.669624e+00     1.515333e+00   2.929644e+00  1.059908e+00   \n",
       "std    4.703484e-01     1.151594e+00   8.315911e+01  8.118432e-01   \n",
       "min    1.000000e+00     0.000000e+00  -3.062000e+01  1.000000e+00   \n",
       "25%    1.000000e+00     1.000000e+00   9.600000e-01  1.000000e+00   \n",
       "50%    2.000000e+00     1.000000e+00   1.600000e+00  1.000000e+00   \n",
       "75%    2.000000e+00     2.000000e+00   2.930000e+00  1.000000e+00   \n",
       "max    2.000000e+00     9.000000e+00   2.102401e+05  9.900000e+01   \n",
       "\n",
       "       PULocationID  DOLocationID  payment_type   fare_amount         extra  \\\n",
       "count  6.405008e+06  6.405008e+06  6.339567e+06  6.405008e+06  6.405008e+06   \n",
       "mean   1.647323e+02  1.626627e+02  1.270298e+00  1.269411e+01  1.115456e+00   \n",
       "std    6.554374e+01  6.991261e+01  4.739985e-01  1.212730e+01  1.260054e+00   \n",
       "min    1.000000e+00  1.000000e+00  1.000000e+00 -1.238000e+03 -2.700000e+01   \n",
       "25%    1.320000e+02  1.130000e+02  1.000000e+00  6.500000e+00  0.000000e+00   \n",
       "50%    1.620000e+02  1.620000e+02  1.000000e+00  9.000000e+00  5.000000e-01   \n",
       "75%    2.340000e+02  2.340000e+02  2.000000e+00  1.400000e+01  2.500000e+00   \n",
       "max    2.650000e+02  2.650000e+02  5.000000e+00  4.265000e+03  1.130100e+02   \n",
       "\n",
       "            mta_tax    tip_amount  tolls_amount  improvement_surcharge  \\\n",
       "count  6.405008e+06  6.405008e+06  6.405008e+06           6.405008e+06   \n",
       "mean   4.923182e-01  2.189342e+00  3.488395e-01           2.979870e-01   \n",
       "std    7.374184e-02  2.760028e+00  1.766978e+00           3.385937e-02   \n",
       "min   -5.000000e-01 -9.100000e+01 -3.574000e+01          -3.000000e-01   \n",
       "25%    5.000000e-01  0.000000e+00  0.000000e+00           3.000000e-01   \n",
       "50%    5.000000e-01  1.950000e+00  0.000000e+00           3.000000e-01   \n",
       "75%    5.000000e-01  2.860000e+00  0.000000e+00           3.000000e-01   \n",
       "max    3.080000e+01  1.100000e+03  9.105000e+02           3.000000e-01   \n",
       "\n",
       "       total_amount  congestion_surcharge  \n",
       "count  6.405008e+06          6.405008e+06  \n",
       "mean   1.866315e+01          2.275662e+00  \n",
       "std    1.475736e+01          7.352646e-01  \n",
       "min   -1.242300e+03         -2.500000e+00  \n",
       "25%    1.116000e+01          2.500000e+00  \n",
       "50%    1.430000e+01          2.500000e+00  \n",
       "75%    1.980000e+01          2.500000e+00  \n",
       "max    4.268300e+03          2.750000e+00  "
      ]
     },
     "execution_count": 18,
     "metadata": {},
     "output_type": "execute_result"
    }
   ],
   "source": [
    "pddf.describe()"
   ]
  },
  {
   "cell_type": "code",
   "execution_count": null,
   "id": "85d25edb-2c37-4287-81fe-9a8472a79a18",
   "metadata": {},
   "outputs": [],
   "source": [
    "# Add new column"
   ]
  },
  {
   "cell_type": "code",
   "execution_count": 32,
   "id": "035ddb58-df3d-4c94-aedb-24e42e581d66",
   "metadata": {},
   "outputs": [
    {
     "ename": "TypeError",
     "evalue": "DataFrame object does not support `Series` assignment by index\n\nUse `DataFrame.with_columns`.",
     "output_type": "error",
     "traceback": [
      "\u001b[0;31m---------------------------------------------------------------------------\u001b[0m",
      "\u001b[0;31mTypeError\u001b[0m                                 Traceback (most recent call last)",
      "\u001b[0;32m/tmp/ipykernel_8500/3011507028.py\u001b[0m in \u001b[0;36m?\u001b[0;34m()\u001b[0m\n\u001b[0;32m----> 1\u001b[0;31m \u001b[0mpldf\u001b[0m\u001b[0;34m[\u001b[0m\u001b[0;34m\"new_column\"\u001b[0m\u001b[0;34m]\u001b[0m \u001b[0;34m=\u001b[0m \u001b[0;34m\"important info\"\u001b[0m\u001b[0;34m\u001b[0m\u001b[0;34m\u001b[0m\u001b[0m\n\u001b[0m",
      "\u001b[0;32m~/dev/data/venv/lib/python3.12/site-packages/polars/dataframe/frame.py\u001b[0m in \u001b[0;36m?\u001b[0;34m(self, key, value)\u001b[0m\n\u001b[1;32m   1359\u001b[0m             msg = (\n\u001b[1;32m   1360\u001b[0m                 \u001b[0;34m\"DataFrame object does not support `Series` assignment by index\"\u001b[0m\u001b[0;34m\u001b[0m\u001b[0;34m\u001b[0m\u001b[0m\n\u001b[1;32m   1361\u001b[0m                 \u001b[0;34m\"\\n\\nUse `DataFrame.with_columns`.\"\u001b[0m\u001b[0;34m\u001b[0m\u001b[0;34m\u001b[0m\u001b[0m\n\u001b[1;32m   1362\u001b[0m             \u001b[0;34m)\u001b[0m\u001b[0;34m\u001b[0m\u001b[0;34m\u001b[0m\u001b[0m\n\u001b[0;32m-> 1363\u001b[0;31m             \u001b[0;32mraise\u001b[0m \u001b[0mTypeError\u001b[0m\u001b[0;34m(\u001b[0m\u001b[0mmsg\u001b[0m\u001b[0;34m)\u001b[0m\u001b[0;34m\u001b[0m\u001b[0;34m\u001b[0m\u001b[0m\n\u001b[0m\u001b[1;32m   1364\u001b[0m \u001b[0;34m\u001b[0m\u001b[0m\n\u001b[1;32m   1365\u001b[0m         \u001b[0;31m# df[[\"C\", \"D\"]]\u001b[0m\u001b[0;34m\u001b[0m\u001b[0;34m\u001b[0m\u001b[0m\n\u001b[1;32m   1366\u001b[0m         \u001b[0;32melif\u001b[0m \u001b[0misinstance\u001b[0m\u001b[0;34m(\u001b[0m\u001b[0mkey\u001b[0m\u001b[0;34m,\u001b[0m \u001b[0mlist\u001b[0m\u001b[0;34m)\u001b[0m\u001b[0;34m:\u001b[0m\u001b[0;34m\u001b[0m\u001b[0;34m\u001b[0m\u001b[0m\n",
      "\u001b[0;31mTypeError\u001b[0m: DataFrame object does not support `Series` assignment by index\n\nUse `DataFrame.with_columns`."
     ]
    }
   ],
   "source": [
    "pldf[\"new_column\"] = \"important info\""
   ]
  },
  {
   "cell_type": "code",
   "execution_count": 33,
   "id": "72dea859-1c06-4058-8486-a6612041b7fd",
   "metadata": {},
   "outputs": [],
   "source": [
    "pldf = pldf.with_columns(\n",
    "    new_column=pl.lit(\"important info\")\n",
    ")"
   ]
  },
  {
   "cell_type": "code",
   "execution_count": 34,
   "id": "24625dc7-e689-43c9-bf27-c05553bce572",
   "metadata": {},
   "outputs": [
    {
     "data": {
      "text/html": [
       "<div><style>\n",
       ".dataframe > thead > tr,\n",
       ".dataframe > tbody > tr {\n",
       "  text-align: right;\n",
       "  white-space: pre-wrap;\n",
       "}\n",
       "</style>\n",
       "<small>shape: (3, 20)</small><table border=\"1\" class=\"dataframe\"><thead><tr><th>VendorID</th><th>tpep_pickup_datetime</th><th>tpep_dropoff_datetime</th><th>passenger_count</th><th>trip_distance</th><th>RatecodeID</th><th>store_and_fwd_flag</th><th>PULocationID</th><th>DOLocationID</th><th>payment_type</th><th>fare_amount</th><th>extra</th><th>mta_tax</th><th>tip_amount</th><th>tolls_amount</th><th>improvement_surcharge</th><th>total_amount</th><th>congestion_surcharge</th><th>trip_distance_category</th><th>new_column</th></tr><tr><td>i64</td><td>str</td><td>str</td><td>i64</td><td>f64</td><td>i64</td><td>str</td><td>i64</td><td>i64</td><td>i64</td><td>f64</td><td>f64</td><td>f64</td><td>f64</td><td>f64</td><td>f64</td><td>f64</td><td>f64</td><td>str</td><td>str</td></tr></thead><tbody><tr><td>1</td><td>&quot;2020-01-01 00:28:15&quot;</td><td>&quot;2020-01-01 00:33:03&quot;</td><td>1</td><td>1.2</td><td>1</td><td>&quot;N&quot;</td><td>238</td><td>239</td><td>1</td><td>6.0</td><td>3.0</td><td>0.5</td><td>1.47</td><td>0.0</td><td>0.3</td><td>11.27</td><td>2.5</td><td>&quot;1+&quot;</td><td>&quot;important info&quot;</td></tr><tr><td>1</td><td>&quot;2020-01-01 00:35:39&quot;</td><td>&quot;2020-01-01 00:43:04&quot;</td><td>1</td><td>1.2</td><td>1</td><td>&quot;N&quot;</td><td>239</td><td>238</td><td>1</td><td>7.0</td><td>3.0</td><td>0.5</td><td>1.5</td><td>0.0</td><td>0.3</td><td>12.3</td><td>2.5</td><td>&quot;1+&quot;</td><td>&quot;important info&quot;</td></tr><tr><td>1</td><td>&quot;2020-01-01 00:47:41&quot;</td><td>&quot;2020-01-01 00:53:52&quot;</td><td>1</td><td>0.6</td><td>1</td><td>&quot;N&quot;</td><td>238</td><td>238</td><td>1</td><td>6.0</td><td>3.0</td><td>0.5</td><td>1.0</td><td>0.0</td><td>0.3</td><td>10.8</td><td>2.5</td><td>&quot;0-1&quot;</td><td>&quot;important info&quot;</td></tr></tbody></table></div>"
      ],
      "text/plain": [
       "shape: (3, 20)\n",
       "┌──────────┬───────────┬───────────┬───────────┬───┬───────────┬───────────┬───────────┬───────────┐\n",
       "│ VendorID ┆ tpep_pick ┆ tpep_drop ┆ passenger ┆ … ┆ total_amo ┆ congestio ┆ trip_dist ┆ new_colum │\n",
       "│ ---      ┆ up_dateti ┆ off_datet ┆ _count    ┆   ┆ unt       ┆ n_surchar ┆ ance_cate ┆ n         │\n",
       "│ i64      ┆ me        ┆ ime       ┆ ---       ┆   ┆ ---       ┆ ge        ┆ gory      ┆ ---       │\n",
       "│          ┆ ---       ┆ ---       ┆ i64       ┆   ┆ f64       ┆ ---       ┆ ---       ┆ str       │\n",
       "│          ┆ str       ┆ str       ┆           ┆   ┆           ┆ f64       ┆ str       ┆           │\n",
       "╞══════════╪═══════════╪═══════════╪═══════════╪═══╪═══════════╪═══════════╪═══════════╪═══════════╡\n",
       "│ 1        ┆ 2020-01-0 ┆ 2020-01-0 ┆ 1         ┆ … ┆ 11.27     ┆ 2.5       ┆ 1+        ┆ important │\n",
       "│          ┆ 1         ┆ 1         ┆           ┆   ┆           ┆           ┆           ┆ info      │\n",
       "│          ┆ 00:28:15  ┆ 00:33:03  ┆           ┆   ┆           ┆           ┆           ┆           │\n",
       "│ 1        ┆ 2020-01-0 ┆ 2020-01-0 ┆ 1         ┆ … ┆ 12.3      ┆ 2.5       ┆ 1+        ┆ important │\n",
       "│          ┆ 1         ┆ 1         ┆           ┆   ┆           ┆           ┆           ┆ info      │\n",
       "│          ┆ 00:35:39  ┆ 00:43:04  ┆           ┆   ┆           ┆           ┆           ┆           │\n",
       "│ 1        ┆ 2020-01-0 ┆ 2020-01-0 ┆ 1         ┆ … ┆ 10.8      ┆ 2.5       ┆ 0-1       ┆ important │\n",
       "│          ┆ 1         ┆ 1         ┆           ┆   ┆           ┆           ┆           ┆ info      │\n",
       "│          ┆ 00:47:41  ┆ 00:53:52  ┆           ┆   ┆           ┆           ┆           ┆           │\n",
       "└──────────┴───────────┴───────────┴───────────┴───┴───────────┴───────────┴───────────┴───────────┘"
      ]
     },
     "execution_count": 34,
     "metadata": {},
     "output_type": "execute_result"
    }
   ],
   "source": [
    "pldf.head(3)"
   ]
  },
  {
   "cell_type": "code",
   "execution_count": 36,
   "id": "d465c3e8-dc11-4f4e-8fe4-9b4aee46637c",
   "metadata": {},
   "outputs": [],
   "source": [
    "pldf = pldf.with_columns(\n",
    "    pl.lit(1.3578490).alias(\"another_new_column\")\n",
    ")"
   ]
  },
  {
   "cell_type": "code",
   "execution_count": 37,
   "id": "5b0e6db3-0c9f-4846-a837-b05e14936156",
   "metadata": {},
   "outputs": [
    {
     "data": {
      "text/html": [
       "<div><style>\n",
       ".dataframe > thead > tr,\n",
       ".dataframe > tbody > tr {\n",
       "  text-align: right;\n",
       "  white-space: pre-wrap;\n",
       "}\n",
       "</style>\n",
       "<small>shape: (3, 21)</small><table border=\"1\" class=\"dataframe\"><thead><tr><th>VendorID</th><th>tpep_pickup_datetime</th><th>tpep_dropoff_datetime</th><th>passenger_count</th><th>trip_distance</th><th>RatecodeID</th><th>store_and_fwd_flag</th><th>PULocationID</th><th>DOLocationID</th><th>payment_type</th><th>fare_amount</th><th>extra</th><th>mta_tax</th><th>tip_amount</th><th>tolls_amount</th><th>improvement_surcharge</th><th>total_amount</th><th>congestion_surcharge</th><th>trip_distance_category</th><th>new_column</th><th>another_new_column</th></tr><tr><td>i64</td><td>str</td><td>str</td><td>i64</td><td>f64</td><td>i64</td><td>str</td><td>i64</td><td>i64</td><td>i64</td><td>f64</td><td>f64</td><td>f64</td><td>f64</td><td>f64</td><td>f64</td><td>f64</td><td>f64</td><td>str</td><td>str</td><td>f64</td></tr></thead><tbody><tr><td>1</td><td>&quot;2020-01-01 00:28:15&quot;</td><td>&quot;2020-01-01 00:33:03&quot;</td><td>1</td><td>1.2</td><td>1</td><td>&quot;N&quot;</td><td>238</td><td>239</td><td>1</td><td>6.0</td><td>3.0</td><td>0.5</td><td>1.47</td><td>0.0</td><td>0.3</td><td>11.27</td><td>2.5</td><td>&quot;1+&quot;</td><td>&quot;important info&quot;</td><td>1.657849</td></tr><tr><td>1</td><td>&quot;2020-01-01 00:35:39&quot;</td><td>&quot;2020-01-01 00:43:04&quot;</td><td>1</td><td>1.2</td><td>1</td><td>&quot;N&quot;</td><td>239</td><td>238</td><td>1</td><td>7.0</td><td>3.0</td><td>0.5</td><td>1.5</td><td>0.0</td><td>0.3</td><td>12.3</td><td>2.5</td><td>&quot;1+&quot;</td><td>&quot;important info&quot;</td><td>1.657849</td></tr><tr><td>1</td><td>&quot;2020-01-01 00:47:41&quot;</td><td>&quot;2020-01-01 00:53:52&quot;</td><td>1</td><td>0.6</td><td>1</td><td>&quot;N&quot;</td><td>238</td><td>238</td><td>1</td><td>6.0</td><td>3.0</td><td>0.5</td><td>1.0</td><td>0.0</td><td>0.3</td><td>10.8</td><td>2.5</td><td>&quot;0-1&quot;</td><td>&quot;important info&quot;</td><td>1.657849</td></tr></tbody></table></div>"
      ],
      "text/plain": [
       "shape: (3, 21)\n",
       "┌──────────┬───────────┬───────────┬───────────┬───┬───────────┬───────────┬───────────┬───────────┐\n",
       "│ VendorID ┆ tpep_pick ┆ tpep_drop ┆ passenger ┆ … ┆ congestio ┆ trip_dist ┆ new_colum ┆ another_n │\n",
       "│ ---      ┆ up_dateti ┆ off_datet ┆ _count    ┆   ┆ n_surchar ┆ ance_cate ┆ n         ┆ ew_column │\n",
       "│ i64      ┆ me        ┆ ime       ┆ ---       ┆   ┆ ge        ┆ gory      ┆ ---       ┆ ---       │\n",
       "│          ┆ ---       ┆ ---       ┆ i64       ┆   ┆ ---       ┆ ---       ┆ str       ┆ f64       │\n",
       "│          ┆ str       ┆ str       ┆           ┆   ┆ f64       ┆ str       ┆           ┆           │\n",
       "╞══════════╪═══════════╪═══════════╪═══════════╪═══╪═══════════╪═══════════╪═══════════╪═══════════╡\n",
       "│ 1        ┆ 2020-01-0 ┆ 2020-01-0 ┆ 1         ┆ … ┆ 2.5       ┆ 1+        ┆ important ┆ 1.657849  │\n",
       "│          ┆ 1         ┆ 1         ┆           ┆   ┆           ┆           ┆ info      ┆           │\n",
       "│          ┆ 00:28:15  ┆ 00:33:03  ┆           ┆   ┆           ┆           ┆           ┆           │\n",
       "│ 1        ┆ 2020-01-0 ┆ 2020-01-0 ┆ 1         ┆ … ┆ 2.5       ┆ 1+        ┆ important ┆ 1.657849  │\n",
       "│          ┆ 1         ┆ 1         ┆           ┆   ┆           ┆           ┆ info      ┆           │\n",
       "│          ┆ 00:35:39  ┆ 00:43:04  ┆           ┆   ┆           ┆           ┆           ┆           │\n",
       "│ 1        ┆ 2020-01-0 ┆ 2020-01-0 ┆ 1         ┆ … ┆ 2.5       ┆ 0-1       ┆ important ┆ 1.657849  │\n",
       "│          ┆ 1         ┆ 1         ┆           ┆   ┆           ┆           ┆ info      ┆           │\n",
       "│          ┆ 00:47:41  ┆ 00:53:52  ┆           ┆   ┆           ┆           ┆           ┆           │\n",
       "└──────────┴───────────┴───────────┴───────────┴───┴───────────┴───────────┴───────────┴───────────┘"
      ]
     },
     "execution_count": 37,
     "metadata": {},
     "output_type": "execute_result"
    }
   ],
   "source": [
    "pldf.head(3)"
   ]
  },
  {
   "cell_type": "code",
   "execution_count": 38,
   "id": "c2971105-7908-409b-ba63-3a987ba5d682",
   "metadata": {},
   "outputs": [],
   "source": [
    "pldf = pldf.with_columns(\n",
    "    pl.col(\"another_new_column\").cast(pl.Int64).alias(\"another_new_column_INT64\")\n",
    ")"
   ]
  },
  {
   "cell_type": "code",
   "execution_count": 39,
   "id": "39653e70-1055-4dfb-88a4-689117446302",
   "metadata": {},
   "outputs": [
    {
     "data": {
      "text/html": [
       "<div><style>\n",
       ".dataframe > thead > tr,\n",
       ".dataframe > tbody > tr {\n",
       "  text-align: right;\n",
       "  white-space: pre-wrap;\n",
       "}\n",
       "</style>\n",
       "<small>shape: (3, 22)</small><table border=\"1\" class=\"dataframe\"><thead><tr><th>VendorID</th><th>tpep_pickup_datetime</th><th>tpep_dropoff_datetime</th><th>passenger_count</th><th>trip_distance</th><th>RatecodeID</th><th>store_and_fwd_flag</th><th>PULocationID</th><th>DOLocationID</th><th>payment_type</th><th>fare_amount</th><th>extra</th><th>mta_tax</th><th>tip_amount</th><th>tolls_amount</th><th>improvement_surcharge</th><th>total_amount</th><th>congestion_surcharge</th><th>trip_distance_category</th><th>new_column</th><th>another_new_column</th><th>another_new_column_INT64</th></tr><tr><td>i64</td><td>str</td><td>str</td><td>i64</td><td>f64</td><td>i64</td><td>str</td><td>i64</td><td>i64</td><td>i64</td><td>f64</td><td>f64</td><td>f64</td><td>f64</td><td>f64</td><td>f64</td><td>f64</td><td>f64</td><td>str</td><td>str</td><td>f64</td><td>i64</td></tr></thead><tbody><tr><td>1</td><td>&quot;2020-01-01 00:28:15&quot;</td><td>&quot;2020-01-01 00:33:03&quot;</td><td>1</td><td>1.2</td><td>1</td><td>&quot;N&quot;</td><td>238</td><td>239</td><td>1</td><td>6.0</td><td>3.0</td><td>0.5</td><td>1.47</td><td>0.0</td><td>0.3</td><td>11.27</td><td>2.5</td><td>&quot;1+&quot;</td><td>&quot;important info&quot;</td><td>1.657849</td><td>1</td></tr><tr><td>1</td><td>&quot;2020-01-01 00:35:39&quot;</td><td>&quot;2020-01-01 00:43:04&quot;</td><td>1</td><td>1.2</td><td>1</td><td>&quot;N&quot;</td><td>239</td><td>238</td><td>1</td><td>7.0</td><td>3.0</td><td>0.5</td><td>1.5</td><td>0.0</td><td>0.3</td><td>12.3</td><td>2.5</td><td>&quot;1+&quot;</td><td>&quot;important info&quot;</td><td>1.657849</td><td>1</td></tr><tr><td>1</td><td>&quot;2020-01-01 00:47:41&quot;</td><td>&quot;2020-01-01 00:53:52&quot;</td><td>1</td><td>0.6</td><td>1</td><td>&quot;N&quot;</td><td>238</td><td>238</td><td>1</td><td>6.0</td><td>3.0</td><td>0.5</td><td>1.0</td><td>0.0</td><td>0.3</td><td>10.8</td><td>2.5</td><td>&quot;0-1&quot;</td><td>&quot;important info&quot;</td><td>1.657849</td><td>1</td></tr></tbody></table></div>"
      ],
      "text/plain": [
       "shape: (3, 22)\n",
       "┌──────────┬───────────┬───────────┬───────────┬───┬───────────┬───────────┬───────────┬───────────┐\n",
       "│ VendorID ┆ tpep_pick ┆ tpep_drop ┆ passenger ┆ … ┆ trip_dist ┆ new_colum ┆ another_n ┆ another_n │\n",
       "│ ---      ┆ up_dateti ┆ off_datet ┆ _count    ┆   ┆ ance_cate ┆ n         ┆ ew_column ┆ ew_column │\n",
       "│ i64      ┆ me        ┆ ime       ┆ ---       ┆   ┆ gory      ┆ ---       ┆ ---       ┆ _INT64    │\n",
       "│          ┆ ---       ┆ ---       ┆ i64       ┆   ┆ ---       ┆ str       ┆ f64       ┆ ---       │\n",
       "│          ┆ str       ┆ str       ┆           ┆   ┆ str       ┆           ┆           ┆ i64       │\n",
       "╞══════════╪═══════════╪═══════════╪═══════════╪═══╪═══════════╪═══════════╪═══════════╪═══════════╡\n",
       "│ 1        ┆ 2020-01-0 ┆ 2020-01-0 ┆ 1         ┆ … ┆ 1+        ┆ important ┆ 1.657849  ┆ 1         │\n",
       "│          ┆ 1         ┆ 1         ┆           ┆   ┆           ┆ info      ┆           ┆           │\n",
       "│          ┆ 00:28:15  ┆ 00:33:03  ┆           ┆   ┆           ┆           ┆           ┆           │\n",
       "│ 1        ┆ 2020-01-0 ┆ 2020-01-0 ┆ 1         ┆ … ┆ 1+        ┆ important ┆ 1.657849  ┆ 1         │\n",
       "│          ┆ 1         ┆ 1         ┆           ┆   ┆           ┆ info      ┆           ┆           │\n",
       "│          ┆ 00:35:39  ┆ 00:43:04  ┆           ┆   ┆           ┆           ┆           ┆           │\n",
       "│ 1        ┆ 2020-01-0 ┆ 2020-01-0 ┆ 1         ┆ … ┆ 0-1       ┆ important ┆ 1.657849  ┆ 1         │\n",
       "│          ┆ 1         ┆ 1         ┆           ┆   ┆           ┆ info      ┆           ┆           │\n",
       "│          ┆ 00:47:41  ┆ 00:53:52  ┆           ┆   ┆           ┆           ┆           ┆           │\n",
       "└──────────┴───────────┴───────────┴───────────┴───┴───────────┴───────────┴───────────┴───────────┘"
      ]
     },
     "execution_count": 39,
     "metadata": {},
     "output_type": "execute_result"
    }
   ],
   "source": [
    "pldf.head(3)"
   ]
  },
  {
   "cell_type": "code",
   "execution_count": null,
   "id": "4a26482d-a8a4-4078-9e6e-19af0d636b79",
   "metadata": {},
   "outputs": [],
   "source": [
    "# Conditional formatting"
   ]
  },
  {
   "cell_type": "code",
   "execution_count": 31,
   "id": "856d0e21-b59e-40d8-a07e-7d6fb650250b",
   "metadata": {},
   "outputs": [
    {
     "data": {
      "text/html": [
       "<div><style>\n",
       ".dataframe > thead > tr,\n",
       ".dataframe > tbody > tr {\n",
       "  text-align: right;\n",
       "  white-space: pre-wrap;\n",
       "}\n",
       "</style>\n",
       "<small>shape: (3, 19)</small><table border=\"1\" class=\"dataframe\"><thead><tr><th>VendorID</th><th>tpep_pickup_datetime</th><th>tpep_dropoff_datetime</th><th>passenger_count</th><th>trip_distance</th><th>RatecodeID</th><th>store_and_fwd_flag</th><th>PULocationID</th><th>DOLocationID</th><th>payment_type</th><th>fare_amount</th><th>extra</th><th>mta_tax</th><th>tip_amount</th><th>tolls_amount</th><th>improvement_surcharge</th><th>total_amount</th><th>congestion_surcharge</th><th>trip_distance_category</th></tr><tr><td>i64</td><td>str</td><td>str</td><td>i64</td><td>f64</td><td>i64</td><td>str</td><td>i64</td><td>i64</td><td>i64</td><td>f64</td><td>f64</td><td>f64</td><td>f64</td><td>f64</td><td>f64</td><td>f64</td><td>f64</td><td>str</td></tr></thead><tbody><tr><td>1</td><td>&quot;2020-01-01 00:28:15&quot;</td><td>&quot;2020-01-01 00:33:03&quot;</td><td>1</td><td>1.2</td><td>1</td><td>&quot;N&quot;</td><td>238</td><td>239</td><td>1</td><td>6.0</td><td>3.0</td><td>0.5</td><td>1.47</td><td>0.0</td><td>0.3</td><td>11.27</td><td>2.5</td><td>&quot;1+&quot;</td></tr><tr><td>1</td><td>&quot;2020-01-01 00:35:39&quot;</td><td>&quot;2020-01-01 00:43:04&quot;</td><td>1</td><td>1.2</td><td>1</td><td>&quot;N&quot;</td><td>239</td><td>238</td><td>1</td><td>7.0</td><td>3.0</td><td>0.5</td><td>1.5</td><td>0.0</td><td>0.3</td><td>12.3</td><td>2.5</td><td>&quot;1+&quot;</td></tr><tr><td>1</td><td>&quot;2020-01-01 00:47:41&quot;</td><td>&quot;2020-01-01 00:53:52&quot;</td><td>1</td><td>0.6</td><td>1</td><td>&quot;N&quot;</td><td>238</td><td>238</td><td>1</td><td>6.0</td><td>3.0</td><td>0.5</td><td>1.0</td><td>0.0</td><td>0.3</td><td>10.8</td><td>2.5</td><td>&quot;0-1&quot;</td></tr></tbody></table></div>"
      ],
      "text/plain": [
       "shape: (3, 19)\n",
       "┌──────────┬───────────┬───────────┬───────────┬───┬───────────┬───────────┬───────────┬───────────┐\n",
       "│ VendorID ┆ tpep_pick ┆ tpep_drop ┆ passenger ┆ … ┆ improveme ┆ total_amo ┆ congestio ┆ trip_dist │\n",
       "│ ---      ┆ up_dateti ┆ off_datet ┆ _count    ┆   ┆ nt_surcha ┆ unt       ┆ n_surchar ┆ ance_cate │\n",
       "│ i64      ┆ me        ┆ ime       ┆ ---       ┆   ┆ rge       ┆ ---       ┆ ge        ┆ gory      │\n",
       "│          ┆ ---       ┆ ---       ┆ i64       ┆   ┆ ---       ┆ f64       ┆ ---       ┆ ---       │\n",
       "│          ┆ str       ┆ str       ┆           ┆   ┆ f64       ┆           ┆ f64       ┆ str       │\n",
       "╞══════════╪═══════════╪═══════════╪═══════════╪═══╪═══════════╪═══════════╪═══════════╪═══════════╡\n",
       "│ 1        ┆ 2020-01-0 ┆ 2020-01-0 ┆ 1         ┆ … ┆ 0.3       ┆ 11.27     ┆ 2.5       ┆ 1+        │\n",
       "│          ┆ 1         ┆ 1         ┆           ┆   ┆           ┆           ┆           ┆           │\n",
       "│          ┆ 00:28:15  ┆ 00:33:03  ┆           ┆   ┆           ┆           ┆           ┆           │\n",
       "│ 1        ┆ 2020-01-0 ┆ 2020-01-0 ┆ 1         ┆ … ┆ 0.3       ┆ 12.3      ┆ 2.5       ┆ 1+        │\n",
       "│          ┆ 1         ┆ 1         ┆           ┆   ┆           ┆           ┆           ┆           │\n",
       "│          ┆ 00:35:39  ┆ 00:43:04  ┆           ┆   ┆           ┆           ┆           ┆           │\n",
       "│ 1        ┆ 2020-01-0 ┆ 2020-01-0 ┆ 1         ┆ … ┆ 0.3       ┆ 10.8      ┆ 2.5       ┆ 0-1       │\n",
       "│          ┆ 1         ┆ 1         ┆           ┆   ┆           ┆           ┆           ┆           │\n",
       "│          ┆ 00:47:41  ┆ 00:53:52  ┆           ┆   ┆           ┆           ┆           ┆           │\n",
       "└──────────┴───────────┴───────────┴───────────┴───┴───────────┴───────────┴───────────┴───────────┘"
      ]
     },
     "execution_count": 31,
     "metadata": {},
     "output_type": "execute_result"
    }
   ],
   "source": [
    "pldf.head(3)"
   ]
  },
  {
   "cell_type": "code",
   "execution_count": 26,
   "id": "f15ba11c-5170-43e2-a1fa-948163a3d37b",
   "metadata": {},
   "outputs": [],
   "source": [
    "pldf = pldf.with_columns(\n",
    "    pl.when(\n",
    "        (pl.col(\"trip_distance\")>0) & (pl.col(\"trip_distance\")<1)\n",
    "    )\n",
    "    .then(pl.lit(\"0-1\"))\n",
    "    .otherwise(pl.lit(\"1+\"))\n",
    "    .alias(\"trip_distance_category\")\n",
    ")"
   ]
  },
  {
   "cell_type": "code",
   "execution_count": 30,
   "id": "92fccb3d-e521-40ef-a1e3-916239443067",
   "metadata": {},
   "outputs": [
    {
     "data": {
      "text/html": [
       "<div><style>\n",
       ".dataframe > thead > tr,\n",
       ".dataframe > tbody > tr {\n",
       "  text-align: right;\n",
       "  white-space: pre-wrap;\n",
       "}\n",
       "</style>\n",
       "<small>shape: (3, 3)</small><table border=\"1\" class=\"dataframe\"><thead><tr><th>trip_distance</th><th>trip_distance_category</th><th>passenger_count</th></tr><tr><td>f64</td><td>str</td><td>i64</td></tr></thead><tbody><tr><td>1.2</td><td>&quot;1+&quot;</td><td>1</td></tr><tr><td>1.2</td><td>&quot;1+&quot;</td><td>1</td></tr><tr><td>0.6</td><td>&quot;0-1&quot;</td><td>1</td></tr></tbody></table></div>"
      ],
      "text/plain": [
       "shape: (3, 3)\n",
       "┌───────────────┬────────────────────────┬─────────────────┐\n",
       "│ trip_distance ┆ trip_distance_category ┆ passenger_count │\n",
       "│ ---           ┆ ---                    ┆ ---             │\n",
       "│ f64           ┆ str                    ┆ i64             │\n",
       "╞═══════════════╪════════════════════════╪═════════════════╡\n",
       "│ 1.2           ┆ 1+                     ┆ 1               │\n",
       "│ 1.2           ┆ 1+                     ┆ 1               │\n",
       "│ 0.6           ┆ 0-1                    ┆ 1               │\n",
       "└───────────────┴────────────────────────┴─────────────────┘"
      ]
     },
     "execution_count": 30,
     "metadata": {},
     "output_type": "execute_result"
    }
   ],
   "source": [
    "pldf[[\"trip_distance\", \"trip_distance_category\", \"passenger_count\"]].head(3)"
   ]
  },
  {
   "cell_type": "code",
   "execution_count": null,
   "id": "99f349aa-c114-474c-b350-803a8eb645f4",
   "metadata": {},
   "outputs": [],
   "source": [
    "# Sum"
   ]
  },
  {
   "cell_type": "code",
   "execution_count": 42,
   "id": "4e397ee8-ff42-492b-94db-74683f9df829",
   "metadata": {},
   "outputs": [
    {
     "data": {
      "text/html": [
       "<div><style>\n",
       ".dataframe > thead > tr,\n",
       ".dataframe > tbody > tr {\n",
       "  text-align: right;\n",
       "  white-space: pre-wrap;\n",
       "}\n",
       "</style>\n",
       "<small>shape: (1, 2)</small><table border=\"1\" class=\"dataframe\"><thead><tr><th>trip_distance</th><th>passenger_count</th></tr><tr><td>f64</td><td>i64</td></tr></thead><tbody><tr><td>1.8764e7</td><td>9606553</td></tr></tbody></table></div>"
      ],
      "text/plain": [
       "shape: (1, 2)\n",
       "┌───────────────┬─────────────────┐\n",
       "│ trip_distance ┆ passenger_count │\n",
       "│ ---           ┆ ---             │\n",
       "│ f64           ┆ i64             │\n",
       "╞═══════════════╪═════════════════╡\n",
       "│ 1.8764e7      ┆ 9606553         │\n",
       "└───────────────┴─────────────────┘"
      ]
     },
     "execution_count": 42,
     "metadata": {},
     "output_type": "execute_result"
    }
   ],
   "source": [
    "pldf.select(pl.sum(\"trip_distance\", \"passenger_count\"))"
   ]
  },
  {
   "cell_type": "code",
   "execution_count": null,
   "id": "5b1166ed-241f-45c1-949c-1a64682f68f8",
   "metadata": {},
   "outputs": [],
   "source": [
    "# Group By"
   ]
  },
  {
   "cell_type": "code",
   "execution_count": 27,
   "id": "f9361be9-e313-4abc-8044-5d182cea0da1",
   "metadata": {},
   "outputs": [
    {
     "data": {
      "text/html": [
       "<div><style>\n",
       ".dataframe > thead > tr,\n",
       ".dataframe > tbody > tr {\n",
       "  text-align: right;\n",
       "  white-space: pre-wrap;\n",
       "}\n",
       "</style>\n",
       "<small>shape: (2, 2)</small><table border=\"1\" class=\"dataframe\"><thead><tr><th>trip_distance_category</th><th>passenger_count</th></tr><tr><td>str</td><td>i64</td></tr></thead><tbody><tr><td>&quot;0-1&quot;</td><td>2388778</td></tr><tr><td>&quot;1+&quot;</td><td>7217775</td></tr></tbody></table></div>"
      ],
      "text/plain": [
       "shape: (2, 2)\n",
       "┌────────────────────────┬─────────────────┐\n",
       "│ trip_distance_category ┆ passenger_count │\n",
       "│ ---                    ┆ ---             │\n",
       "│ str                    ┆ i64             │\n",
       "╞════════════════════════╪═════════════════╡\n",
       "│ 0-1                    ┆ 2388778         │\n",
       "│ 1+                     ┆ 7217775         │\n",
       "└────────────────────────┴─────────────────┘"
      ]
     },
     "execution_count": 27,
     "metadata": {},
     "output_type": "execute_result"
    }
   ],
   "source": [
    "pldf.group_by(\"trip_distance_category\").agg(pl.col(\"passenger_count\").sum())"
   ]
  },
  {
   "cell_type": "code",
   "execution_count": 45,
   "id": "205ca03b-0226-43df-9afa-77fb04bde1dc",
   "metadata": {},
   "outputs": [
    {
     "data": {
      "text/html": [
       "<div><style>\n",
       ".dataframe > thead > tr,\n",
       ".dataframe > tbody > tr {\n",
       "  text-align: right;\n",
       "  white-space: pre-wrap;\n",
       "}\n",
       "</style>\n",
       "<small>shape: (2, 2)</small><table border=\"1\" class=\"dataframe\"><thead><tr><th>trip_distance_category</th><th>trip_distance</th></tr><tr><td>str</td><td>f64</td></tr></thead><tbody><tr><td>&quot;1+&quot;</td><td>3.675475</td></tr><tr><td>&quot;0-1&quot;</td><td>0.676678</td></tr></tbody></table></div>"
      ],
      "text/plain": [
       "shape: (2, 2)\n",
       "┌────────────────────────┬───────────────┐\n",
       "│ trip_distance_category ┆ trip_distance │\n",
       "│ ---                    ┆ ---           │\n",
       "│ str                    ┆ f64           │\n",
       "╞════════════════════════╪═══════════════╡\n",
       "│ 1+                     ┆ 3.675475      │\n",
       "│ 0-1                    ┆ 0.676678      │\n",
       "└────────────────────────┴───────────────┘"
      ]
     },
     "execution_count": 45,
     "metadata": {},
     "output_type": "execute_result"
    }
   ],
   "source": [
    "pldf.group_by(\"trip_distance_category\").agg(pl.col(\"trip_distance\").mean())"
   ]
  },
  {
   "cell_type": "code",
   "execution_count": null,
   "id": "093a92a9-8696-433e-a7c8-3dc957f5ae4d",
   "metadata": {},
   "outputs": [],
   "source": [
    "# Unique values"
   ]
  },
  {
   "cell_type": "code",
   "execution_count": 46,
   "id": "b683317d-c396-4b77-83ea-f1f0f82ea3c9",
   "metadata": {},
   "outputs": [
    {
     "data": {
      "text/html": [
       "<div><style>\n",
       ".dataframe > thead > tr,\n",
       ".dataframe > tbody > tr {\n",
       "  text-align: right;\n",
       "  white-space: pre-wrap;\n",
       "}\n",
       "</style>\n",
       "<small>shape: (11,)</small><table border=\"1\" class=\"dataframe\"><thead><tr><th>passenger_count</th></tr><tr><td>i64</td></tr></thead><tbody><tr><td>null</td></tr><tr><td>0</td></tr><tr><td>1</td></tr><tr><td>2</td></tr><tr><td>3</td></tr><tr><td>&hellip;</td></tr><tr><td>5</td></tr><tr><td>6</td></tr><tr><td>7</td></tr><tr><td>8</td></tr><tr><td>9</td></tr></tbody></table></div>"
      ],
      "text/plain": [
       "shape: (11,)\n",
       "Series: 'passenger_count' [i64]\n",
       "[\n",
       "\tnull\n",
       "\t0\n",
       "\t1\n",
       "\t2\n",
       "\t3\n",
       "\t…\n",
       "\t5\n",
       "\t6\n",
       "\t7\n",
       "\t8\n",
       "\t9\n",
       "]"
      ]
     },
     "execution_count": 46,
     "metadata": {},
     "output_type": "execute_result"
    }
   ],
   "source": [
    "pldf[\"passenger_count\"].unique()"
   ]
  },
  {
   "cell_type": "code",
   "execution_count": 47,
   "id": "f8f7a6a9-f8af-4333-9773-a8b0dc1b4998",
   "metadata": {},
   "outputs": [
    {
     "data": {
      "text/plain": [
       "11"
      ]
     },
     "execution_count": 47,
     "metadata": {},
     "output_type": "execute_result"
    }
   ],
   "source": [
    "pldf[\"passenger_count\"].n_unique()"
   ]
  },
  {
   "cell_type": "code",
   "execution_count": null,
   "id": "ab2673b9-b471-4c43-983a-ecba8508c8a2",
   "metadata": {},
   "outputs": [],
   "source": [
    "# User-defined Functions"
   ]
  },
  {
   "cell_type": "code",
   "execution_count": 40,
   "id": "2587d6e9-efe5-4e2d-9a73-d716c12dc5c4",
   "metadata": {},
   "outputs": [],
   "source": [
    "def transform_column(value: str) -> str:\n",
    "    return f\"{value}_transformed\"\n",
    "\n",
    "out = pldf.select(pl.col(\"trip_distance_category\").map_elements(transform_column, return_dtype=pl.Utf8))"
   ]
  },
  {
   "cell_type": "code",
   "execution_count": 41,
   "id": "6273274c-3533-4b75-90e9-7f0b1b6070ed",
   "metadata": {},
   "outputs": [
    {
     "data": {
      "text/html": [
       "<div><style>\n",
       ".dataframe > thead > tr,\n",
       ".dataframe > tbody > tr {\n",
       "  text-align: right;\n",
       "  white-space: pre-wrap;\n",
       "}\n",
       "</style>\n",
       "<small>shape: (3, 1)</small><table border=\"1\" class=\"dataframe\"><thead><tr><th>trip_distance_category</th></tr><tr><td>str</td></tr></thead><tbody><tr><td>&quot;1+_transformed&quot;</td></tr><tr><td>&quot;1+_transformed&quot;</td></tr><tr><td>&quot;0-1_transformed&quot;</td></tr></tbody></table></div>"
      ],
      "text/plain": [
       "shape: (3, 1)\n",
       "┌────────────────────────┐\n",
       "│ trip_distance_category │\n",
       "│ ---                    │\n",
       "│ str                    │\n",
       "╞════════════════════════╡\n",
       "│ 1+_transformed         │\n",
       "│ 1+_transformed         │\n",
       "│ 0-1_transformed        │\n",
       "└────────────────────────┘"
      ]
     },
     "execution_count": 41,
     "metadata": {},
     "output_type": "execute_result"
    }
   ],
   "source": [
    "out.head(3)"
   ]
  },
  {
   "cell_type": "code",
   "execution_count": null,
   "id": "c602b578-4127-416c-a731-413645587e36",
   "metadata": {},
   "outputs": [],
   "source": [
    "# Lazy and Eager execution"
   ]
  },
  {
   "cell_type": "code",
   "execution_count": null,
   "id": "9fddee19-d71f-4776-a94c-94aac08e35ef",
   "metadata": {},
   "outputs": [],
   "source": [
    "@elapse_time\n",
    "def transform_polars_eager(df: pl.DataFrame) -> pl.DataFrame:"
   ]
  },
  {
   "cell_type": "code",
   "execution_count": null,
   "id": "fa219233-c3e8-4ae9-ba54-185af43cb073",
   "metadata": {},
   "outputs": [],
   "source": [
    "@elapse_time\n",
    "def transform_pandas(df: pd.DataFrame) -> pd.DataFrame:\n",
    "    # TODO"
   ]
  },
  {
   "cell_type": "code",
   "execution_count": null,
   "id": "577a88d6-451d-4e3e-baaa-d24fa3715890",
   "metadata": {},
   "outputs": [],
   "source": [
    "@elapse_time\n",
    "def transform_polars_lazy(df: pl.LazyFrame) -> pl.LazyFrame:\n",
    "    # TODO"
   ]
  },
  {
   "cell_type": "code",
   "execution_count": null,
   "id": "8e062c97-0fef-4409-adae-d353e00bbe6c",
   "metadata": {},
   "outputs": [],
   "source": []
  },
  {
   "cell_type": "code",
   "execution_count": null,
   "id": "e64eefcc-afec-4c8f-b62d-c79267a49124",
   "metadata": {},
   "outputs": [],
   "source": []
  }
 ],
 "metadata": {
  "kernelspec": {
   "display_name": "Python 3 (ipykernel)",
   "language": "python",
   "name": "python3"
  },
  "language_info": {
   "codemirror_mode": {
    "name": "ipython",
    "version": 3
   },
   "file_extension": ".py",
   "mimetype": "text/x-python",
   "name": "python",
   "nbconvert_exporter": "python",
   "pygments_lexer": "ipython3",
   "version": "3.12.3"
  }
 },
 "nbformat": 4,
 "nbformat_minor": 5
}
