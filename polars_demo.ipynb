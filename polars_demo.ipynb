{
 "cells": [
  {
   "cell_type": "code",
   "execution_count": 13,
   "id": "309c0cd3-bdc6-405b-9ebc-de86d5f088e2",
   "metadata": {},
   "outputs": [],
   "source": [
    "import polars as pl\n",
    "import pandas as pd\n",
    "from time import time\n",
    "from pathlib import Path\n",
    "import warnings"
   ]
  },
  {
   "cell_type": "code",
   "execution_count": 15,
   "id": "84bd9b1c-55da-4add-b15a-d856cd26a0fd",
   "metadata": {},
   "outputs": [],
   "source": [
    "warnings.filterwarnings(\"ignore\")"
   ]
  },
  {
   "cell_type": "code",
   "execution_count": 6,
   "id": "70c1a5ba-958c-4558-912c-24aac2a38fe1",
   "metadata": {},
   "outputs": [
    {
     "data": {
      "text/plain": [
       "566.11"
      ]
     },
     "execution_count": 6,
     "metadata": {},
     "output_type": "execute_result"
    }
   ],
   "source": [
    "round((Path(\"data.csv\").stat().st_size / 1048576), 2)"
   ]
  },
  {
   "cell_type": "code",
   "execution_count": 2,
   "id": "b823d2ed-3911-4012-94ab-2752d6170ba4",
   "metadata": {},
   "outputs": [],
   "source": [
    "def elapse_time(func):\n",
    "    def wrapper(*args, **kwargs):\n",
    "        start_time = time()\n",
    "        result = func(*args, **kwargs)\n",
    "        end_time = time()\n",
    "        execution_time = round((end_time - start_time), 2)\n",
    "        print(f\"Function {func.__name__} took {execution_time} seconds to execute\")\n",
    "        return result\n",
    "    return wrapper"
   ]
  },
  {
   "cell_type": "code",
   "execution_count": 18,
   "id": "a21cde93-085f-43eb-adbc-11b173d6cb8b",
   "metadata": {},
   "outputs": [],
   "source": [
    "@elapse_time\n",
    "def read_csv(path: str, lib: str) -> pd.DataFrame | pl.DataFrame:\n",
    "    if lib == \"polars\":\n",
    "        df = pl.read_csv(path)\n",
    "    elif lib == \"pandas\":\n",
    "        df = pd.read_csv(path)\n",
    "    else:\n",
    "        raise TypeError(\"lib must be one of 'polars' or 'pandas'.\")\n",
    "    return df"
   ]
  },
  {
   "cell_type": "code",
   "execution_count": 19,
   "id": "42323ffb-2d7d-4536-80c4-91e0afb06007",
   "metadata": {},
   "outputs": [
    {
     "name": "stdout",
     "output_type": "stream",
     "text": [
      "Function read_csv took 1.19 seconds to execute\n"
     ]
    }
   ],
   "source": [
    "pldf = read_csv(\"data.csv\", \"polars\")"
   ]
  },
  {
   "cell_type": "code",
   "execution_count": 16,
   "id": "fda8edc3-060b-44f4-ab97-87e965073654",
   "metadata": {},
   "outputs": [
    {
     "name": "stdout",
     "output_type": "stream",
     "text": [
      "Function read_csv took 9.97 seconds to execute\n"
     ]
    }
   ],
   "source": [
    "pddf = read_csv(\"data.csv\", \"pandas\")"
   ]
  },
  {
   "cell_type": "code",
   "execution_count": null,
   "id": "78cdd6e2-ced0-46df-943f-f291c3676a4a",
   "metadata": {},
   "outputs": [],
   "source": [
    "# Schema"
   ]
  },
  {
   "cell_type": "code",
   "execution_count": null,
   "id": "d526e651-d79c-4737-8fbf-85bbea50e9ce",
   "metadata": {},
   "outputs": [],
   "source": [
    "# Describe"
   ]
  },
  {
   "cell_type": "code",
   "execution_count": null,
   "id": "1cfd81d0-381c-4137-865e-63e4693f49a2",
   "metadata": {},
   "outputs": [],
   "source": [
    "# Backend - Arrow"
   ]
  },
  {
   "cell_type": "code",
   "execution_count": null,
   "id": "4a26482d-a8a4-4078-9e6e-19af0d636b79",
   "metadata": {},
   "outputs": [],
   "source": [
    "# Conditional formatting"
   ]
  },
  {
   "cell_type": "code",
   "execution_count": null,
   "id": "ab2673b9-b471-4c43-983a-ecba8508c8a2",
   "metadata": {},
   "outputs": [],
   "source": [
    "# Joins"
   ]
  },
  {
   "cell_type": "code",
   "execution_count": null,
   "id": "08cd6ffa-1946-49fe-a192-100df2d14197",
   "metadata": {},
   "outputs": [],
   "source": [
    "# SQL"
   ]
  },
  {
   "cell_type": "code",
   "execution_count": null,
   "id": "0a01482c-90be-4fce-925b-e18972d1fcc2",
   "metadata": {},
   "outputs": [],
   "source": [
    "# Exports, scikit learn export, etc."
   ]
  },
  {
   "cell_type": "code",
   "execution_count": null,
   "id": "9fddee19-d71f-4776-a94c-94aac08e35ef",
   "metadata": {},
   "outputs": [],
   "source": [
    "@elapse_time\n",
    "def transform_polars_eager(df: pl.DataFrame) -> pl.DataFrame:\n",
    "    # TODO"
   ]
  },
  {
   "cell_type": "code",
   "execution_count": null,
   "id": "fa219233-c3e8-4ae9-ba54-185af43cb073",
   "metadata": {},
   "outputs": [],
   "source": [
    "@elapse_time\n",
    "def transform_pandas(df: pd.DataFrame) -> pd.DataFrame:\n",
    "    # TODO"
   ]
  },
  {
   "cell_type": "code",
   "execution_count": null,
   "id": "577a88d6-451d-4e3e-baaa-d24fa3715890",
   "metadata": {},
   "outputs": [],
   "source": [
    "@elapse_time\n",
    "def transform_polars_lazy(df: pl.LazyFrame) -> pl.LazyFrame:\n",
    "    # TODO"
   ]
  },
  {
   "cell_type": "code",
   "execution_count": null,
   "id": "8e062c97-0fef-4409-adae-d353e00bbe6c",
   "metadata": {},
   "outputs": [],
   "source": []
  },
  {
   "cell_type": "code",
   "execution_count": null,
   "id": "e64eefcc-afec-4c8f-b62d-c79267a49124",
   "metadata": {},
   "outputs": [],
   "source": []
  }
 ],
 "metadata": {
  "kernelspec": {
   "display_name": "Python 3 (ipykernel)",
   "language": "python",
   "name": "python3"
  },
  "language_info": {
   "codemirror_mode": {
    "name": "ipython",
    "version": 3
   },
   "file_extension": ".py",
   "mimetype": "text/x-python",
   "name": "python",
   "nbconvert_exporter": "python",
   "pygments_lexer": "ipython3",
   "version": "3.12.3"
  }
 },
 "nbformat": 4,
 "nbformat_minor": 5
}
